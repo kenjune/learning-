{
 "cells": [
  {
   "cell_type": "code",
   "execution_count": 1,
   "id": "fc41c344",
   "metadata": {},
   "outputs": [],
   "source": [
    "import numpy as np\n",
    "from pulp import *"
   ]
  },
  {
   "cell_type": "code",
   "execution_count": 6,
   "id": "2b792dd0",
   "metadata": {},
   "outputs": [
    {
     "name": "stdout",
     "output_type": "stream",
     "text": [
      "[[3 1 2]\n",
      " [1 3 0]\n",
      " [0 2 4]] [60 36 48] [150 200 300]\n"
     ]
    }
   ],
   "source": [
    "A=np.array([[3,1,2],[1,3,0],[0,2,4]])\n",
    "b=np.array([60,36,48])\n",
    "c=np.array([150,200,300])\n",
    "print(A,b,c)"
   ]
  },
  {
   "cell_type": "code",
   "execution_count": 24,
   "id": "7b06197c",
   "metadata": {},
   "outputs": [
    {
     "name": "stdout",
     "output_type": "stream",
     "text": [
      "3 3\n"
     ]
    }
   ],
   "source": [
    "(m,n)=A.shape\n",
    "print(m,n)"
   ]
  },
  {
   "cell_type": "code",
   "execution_count": 28,
   "id": "25001e18",
   "metadata": {},
   "outputs": [
    {
     "name": "stdout",
     "output_type": "stream",
     "text": [
      "[x1, x2, x3]\n"
     ]
    }
   ],
   "source": [
    "prob=LpProblem(name='production',sense=LpMaximize)\n",
    "x=[LpVariable('x'+str(i+1),lowBound=0) for i in range(n)]\n",
    "print(x)"
   ]
  },
  {
   "cell_type": "code",
   "execution_count": 29,
   "id": "703eeb8a",
   "metadata": {},
   "outputs": [],
   "source": [
    "prob+=lpDot(c,x) # 这里使用lpDot 和 np.dot 结果都是一样地"
   ]
  },
  {
   "cell_type": "code",
   "execution_count": 30,
   "id": "8750f2ba",
   "metadata": {},
   "outputs": [
    {
     "name": "stdout",
     "output_type": "stream",
     "text": [
      "production:\n",
      "MAXIMIZE\n",
      "150*x1 + 200*x2 + 300*x3 + 0\n",
      "SUBJECT TO\n",
      "ineq1: 3 x1 + x2 + 2 x3 <= 60\n",
      "\n",
      "ineq2: x1 + 3 x2 <= 36\n",
      "\n",
      "ineq3: 2 x2 + 4 x3 <= 48\n",
      "\n",
      "VARIABLES\n",
      "x1 Continuous\n",
      "x2 Continuous\n",
      "x3 Continuous\n",
      "\n"
     ]
    }
   ],
   "source": [
    "for i in range(m):# 按行求点乘\n",
    "    prob+=np.dot(A[i],x)<=b[i],'ineq'+str(i+1) # 这个地方如果前面重复跑了代码容易出现OVERLAPPING  的问题\n",
    "print(prob)    "
   ]
  },
  {
   "cell_type": "code",
   "execution_count": 31,
   "id": "b01fefb1",
   "metadata": {},
   "outputs": [
    {
     "name": "stdout",
     "output_type": "stream",
     "text": [
      "Requirement already satisfied: openpyxl in e:\\anaconda\\lib\\site-packages (3.0.10)\n",
      "Requirement already satisfied: et_xmlfile in e:\\anaconda\\lib\\site-packages (from openpyxl) (1.1.0)\n",
      "Note: you may need to restart the kernel to use updated packages.\n"
     ]
    }
   ],
   "source": [
    "pip install openpyxl"
   ]
  },
  {
   "cell_type": "code",
   "execution_count": 32,
   "id": "3a9ac3ee",
   "metadata": {},
   "outputs": [
    {
     "name": "stdout",
     "output_type": "stream",
     "text": [
      "Requirement already satisfied: xlrd in e:\\anaconda\\lib\\site-packages (2.0.1)\n",
      "Note: you may need to restart the kernel to use updated packages.\n"
     ]
    }
   ],
   "source": [
    "pip install xlrd"
   ]
  },
  {
   "cell_type": "code",
   "execution_count": 51,
   "id": "363dff55",
   "metadata": {},
   "outputs": [
    {
     "name": "stdout",
     "output_type": "stream",
     "text": [
      "C:\\Users\\84280\\Desktop\\lianxi\\olympic_data.xlsx\n"
     ]
    },
    {
     "data": {
      "text/html": [
       "<div>\n",
       "<style scoped>\n",
       "    .dataframe tbody tr th:only-of-type {\n",
       "        vertical-align: middle;\n",
       "    }\n",
       "\n",
       "    .dataframe tbody tr th {\n",
       "        vertical-align: top;\n",
       "    }\n",
       "\n",
       "    .dataframe thead th {\n",
       "        text-align: right;\n",
       "    }\n",
       "</style>\n",
       "<table border=\"1\" class=\"dataframe\">\n",
       "  <thead>\n",
       "    <tr style=\"text-align: right;\">\n",
       "      <th></th>\n",
       "      <th>人口(100万人)</th>\n",
       "      <th>GDP(10億ドル)</th>\n",
       "      <th>金</th>\n",
       "      <th>銀</th>\n",
       "      <th>銅</th>\n",
       "    </tr>\n",
       "  </thead>\n",
       "  <tbody>\n",
       "    <tr>\n",
       "      <th>アメリカ</th>\n",
       "      <td>321.774</td>\n",
       "      <td>14682.739</td>\n",
       "      <td>46</td>\n",
       "      <td>37</td>\n",
       "      <td>38</td>\n",
       "    </tr>\n",
       "    <tr>\n",
       "      <th>中国</th>\n",
       "      <td>1376.949</td>\n",
       "      <td>5320.232</td>\n",
       "      <td>26</td>\n",
       "      <td>18</td>\n",
       "      <td>26</td>\n",
       "    </tr>\n",
       "    <tr>\n",
       "      <th>イギリス</th>\n",
       "      <td>64.716</td>\n",
       "      <td>2676.520</td>\n",
       "      <td>27</td>\n",
       "      <td>23</td>\n",
       "      <td>17</td>\n",
       "    </tr>\n",
       "    <tr>\n",
       "      <th>ロシア</th>\n",
       "      <td>143.457</td>\n",
       "      <td>999.832</td>\n",
       "      <td>19</td>\n",
       "      <td>18</td>\n",
       "      <td>19</td>\n",
       "    </tr>\n",
       "    <tr>\n",
       "      <th>ドイツ</th>\n",
       "      <td>80.689</td>\n",
       "      <td>3236.726</td>\n",
       "      <td>17</td>\n",
       "      <td>10</td>\n",
       "      <td>15</td>\n",
       "    </tr>\n",
       "    <tr>\n",
       "      <th>フランス</th>\n",
       "      <td>64.395</td>\n",
       "      <td>2361.317</td>\n",
       "      <td>10</td>\n",
       "      <td>18</td>\n",
       "      <td>14</td>\n",
       "    </tr>\n",
       "    <tr>\n",
       "      <th>日本</th>\n",
       "      <td>126.573</td>\n",
       "      <td>4780.944</td>\n",
       "      <td>12</td>\n",
       "      <td>8</td>\n",
       "      <td>21</td>\n",
       "    </tr>\n",
       "    <tr>\n",
       "      <th>オーストラリア</th>\n",
       "      <td>23.969</td>\n",
       "      <td>975.012</td>\n",
       "      <td>8</td>\n",
       "      <td>11</td>\n",
       "      <td>10</td>\n",
       "    </tr>\n",
       "    <tr>\n",
       "      <th>イタリア</th>\n",
       "      <td>59.798</td>\n",
       "      <td>1745.045</td>\n",
       "      <td>8</td>\n",
       "      <td>12</td>\n",
       "      <td>8</td>\n",
       "    </tr>\n",
       "    <tr>\n",
       "      <th>カナダ</th>\n",
       "      <td>35.940</td>\n",
       "      <td>1359.773</td>\n",
       "      <td>4</td>\n",
       "      <td>3</td>\n",
       "      <td>15</td>\n",
       "    </tr>\n",
       "  </tbody>\n",
       "</table>\n",
       "</div>"
      ],
      "text/plain": [
       "         人口(100万人)  GDP(10億ドル)   金   銀   銅\n",
       "アメリカ       321.774   14682.739  46  37  38\n",
       "中国        1376.949    5320.232  26  18  26\n",
       "イギリス        64.716    2676.520  27  23  17\n",
       "ロシア        143.457     999.832  19  18  19\n",
       "ドイツ         80.689    3236.726  17  10  15\n",
       "フランス        64.395    2361.317  10  18  14\n",
       "日本         126.573    4780.944  12   8  21\n",
       "オーストラリア     23.969     975.012   8  11  10\n",
       "イタリア        59.798    1745.045   8  12   8\n",
       "カナダ         35.940    1359.773   4   3  15"
      ]
     },
     "execution_count": 51,
     "metadata": {},
     "output_type": "execute_result"
    }
   ],
   "source": [
    "import pandas as pd \n",
    "path=r'C:\\Users\\84280\\Desktop\\lianxi\\olympic_data.xlsx'\n",
    "print(path)\n",
    "df=pd.read_excel(path,index_col=0)\n",
    "df.head(10)"
   ]
  },
  {
   "cell_type": "code",
   "execution_count": null,
   "id": "820ef23c",
   "metadata": {},
   "outputs": [],
   "source": []
  }
 ],
 "metadata": {
  "kernelspec": {
   "display_name": "Python 3 (ipykernel)",
   "language": "python",
   "name": "python3"
  },
  "language_info": {
   "codemirror_mode": {
    "name": "ipython",
    "version": 3
   },
   "file_extension": ".py",
   "mimetype": "text/x-python",
   "name": "python",
   "nbconvert_exporter": "python",
   "pygments_lexer": "ipython3",
   "version": "3.9.13"
  }
 },
 "nbformat": 4,
 "nbformat_minor": 5
}
