{
 "cells": [
  {
   "cell_type": "code",
   "execution_count": 1,
   "id": "020a38ae",
   "metadata": {},
   "outputs": [
    {
     "name": "stdout",
     "output_type": "stream",
     "text": [
      "Collecting openai-whisper\n",
      "  Downloading openai-whisper-20240930.tar.gz (800 kB)\n",
      "     -------------------------------------- 800.5/800.5 kB 8.4 MB/s eta 0:00:00\n",
      "  Installing build dependencies: started\n",
      "  Installing build dependencies: finished with status 'done'\n",
      "  Getting requirements to build wheel: started\n",
      "  Getting requirements to build wheel: finished with status 'done'\n",
      "  Preparing metadata (pyproject.toml): started\n",
      "  Preparing metadata (pyproject.toml): finished with status 'done'\n",
      "Collecting tiktoken\n",
      "  Downloading tiktoken-0.8.0-cp39-cp39-win_amd64.whl (884 kB)\n",
      "     ------------------------------------- 884.8/884.8 kB 27.3 MB/s eta 0:00:00\n",
      "Collecting more-itertools\n",
      "  Downloading more_itertools-10.5.0-py3-none-any.whl (60 kB)\n",
      "     ---------------------------------------- 61.0/61.0 kB ? eta 0:00:00\n",
      "Collecting torch\n",
      "  Downloading torch-2.5.0-cp39-cp39-win_amd64.whl (203.0 MB)\n",
      "     ------------------------------------- 203.0/203.0 MB 14.5 MB/s eta 0:00:00\n",
      "Requirement already satisfied: numba in e:\\anaconda\\lib\\site-packages (from openai-whisper) (0.55.1)\n",
      "Requirement already satisfied: tqdm in e:\\anaconda\\lib\\site-packages (from openai-whisper) (4.64.1)\n",
      "Requirement already satisfied: numpy in e:\\anaconda\\lib\\site-packages (from openai-whisper) (1.26.4)\n",
      "Requirement already satisfied: llvmlite<0.39,>=0.38.0rc1 in e:\\anaconda\\lib\\site-packages (from numba->openai-whisper) (0.38.0)\n",
      "Collecting numpy\n",
      "  Downloading numpy-1.21.6-cp39-cp39-win_amd64.whl (14.0 MB)\n",
      "     --------------------------------------- 14.0/14.0 MB 50.3 MB/s eta 0:00:00\n",
      "Requirement already satisfied: setuptools in e:\\anaconda\\lib\\site-packages (from numba->openai-whisper) (63.4.1)\n",
      "Requirement already satisfied: requests>=2.26.0 in e:\\anaconda\\lib\\site-packages (from tiktoken->openai-whisper) (2.28.1)\n",
      "Requirement already satisfied: regex>=2022.1.18 in e:\\anaconda\\lib\\site-packages (from tiktoken->openai-whisper) (2022.7.9)\n",
      "Requirement already satisfied: filelock in e:\\anaconda\\lib\\site-packages (from torch->openai-whisper) (3.6.0)\n",
      "Requirement already satisfied: jinja2 in e:\\anaconda\\lib\\site-packages (from torch->openai-whisper) (3.1.3)\n",
      "Requirement already satisfied: networkx in e:\\anaconda\\lib\\site-packages (from torch->openai-whisper) (2.8.4)\n",
      "Requirement already satisfied: fsspec in e:\\anaconda\\lib\\site-packages (from torch->openai-whisper) (2022.7.1)\n",
      "Collecting sympy==1.13.1\n",
      "  Downloading sympy-1.13.1-py3-none-any.whl (6.2 MB)\n",
      "     ---------------------------------------- 6.2/6.2 MB 66.4 MB/s eta 0:00:00\n",
      "Requirement already satisfied: typing-extensions>=4.8.0 in e:\\anaconda\\lib\\site-packages (from torch->openai-whisper) (4.12.2)\n",
      "Requirement already satisfied: mpmath<1.4,>=1.1.0 in e:\\anaconda\\lib\\site-packages (from sympy==1.13.1->torch->openai-whisper) (1.2.1)\n",
      "Requirement already satisfied: colorama in e:\\anaconda\\lib\\site-packages (from tqdm->openai-whisper) (0.4.5)\n",
      "Requirement already satisfied: idna<4,>=2.5 in e:\\anaconda\\lib\\site-packages (from requests>=2.26.0->tiktoken->openai-whisper) (3.3)\n",
      "Requirement already satisfied: urllib3<1.27,>=1.21.1 in e:\\anaconda\\lib\\site-packages (from requests>=2.26.0->tiktoken->openai-whisper) (1.26.11)\n",
      "Requirement already satisfied: charset-normalizer<3,>=2 in e:\\anaconda\\lib\\site-packages (from requests>=2.26.0->tiktoken->openai-whisper) (2.0.4)\n",
      "Requirement already satisfied: certifi>=2017.4.17 in e:\\anaconda\\lib\\site-packages (from requests>=2.26.0->tiktoken->openai-whisper) (2022.9.14)\n",
      "Requirement already satisfied: MarkupSafe>=2.0 in e:\\anaconda\\lib\\site-packages (from jinja2->torch->openai-whisper) (2.0.1)\n",
      "Building wheels for collected packages: openai-whisper\n",
      "  Building wheel for openai-whisper (pyproject.toml): started\n",
      "  Building wheel for openai-whisper (pyproject.toml): finished with status 'done'\n",
      "  Created wheel for openai-whisper: filename=openai_whisper-20240930-py3-none-any.whl size=803357 sha256=c09d506770afdef8000cc1d85f716a20e98e8e453576b1d91edbdecaaeca2c70\n",
      "  Stored in directory: c:\\users\\84280\\appdata\\local\\pip\\cache\\wheels\\94\\29\\f3\\3dd4d7f88df5d701acd3206732dcb6265379c5ece94b472c17\n",
      "Successfully built openai-whisper\n",
      "Installing collected packages: sympy, numpy, more-itertools, torch, tiktoken, openai-whisper\n",
      "  Attempting uninstall: sympy\n",
      "    Found existing installation: sympy 1.10.1\n",
      "    Uninstalling sympy-1.10.1:\n",
      "      Successfully uninstalled sympy-1.10.1\n",
      "  Attempting uninstall: numpy\n",
      "    Found existing installation: numpy 1.26.4\n",
      "    Uninstalling numpy-1.26.4:\n",
      "      Successfully uninstalled numpy-1.26.4\n",
      "Note: you may need to restart the kernel to use updated packages.\n"
     ]
    },
    {
     "name": "stderr",
     "output_type": "stream",
     "text": [
      "ERROR: Could not install packages due to an OSError: [WinError 5] 拒绝访问。: 'E:\\\\anaconda\\\\Lib\\\\site-packages\\\\~umpy.libs\\\\libopenblas64__v0.3.23-293-gc2f4bdbb-gcc_10_3_0-2bde3a66a51006b2b53eb373ff767a3f.dll'\n",
      "Consider using the `--user` option or check the permissions.\n",
      "\n"
     ]
    }
   ],
   "source": [
    "pip install openai-whisper"
   ]
  },
  {
   "cell_type": "code",
   "execution_count": 1,
   "id": "e686a6c8",
   "metadata": {},
   "outputs": [
    {
     "name": "stdout",
     "output_type": "stream",
     "text": [
      "Requirement already satisfied: setuptools-rust in e:\\anaconda\\lib\\site-packages (1.10.2)\n",
      "Requirement already satisfied: setuptools>=62.4 in e:\\anaconda\\lib\\site-packages (from setuptools-rust) (63.4.1)\n",
      "Requirement already satisfied: semantic-version<3,>=2.8.2 in e:\\anaconda\\lib\\site-packages (from setuptools-rust) (2.10.0)\n",
      "Note: you may need to restart the kernel to use updated packages.\n"
     ]
    }
   ],
   "source": [
    "pip install setuptools-rust"
   ]
  },
  {
   "cell_type": "code",
   "execution_count": 3,
   "id": "8b36e2f3",
   "metadata": {},
   "outputs": [],
   "source": [
    "import numpy as np"
   ]
  },
  {
   "cell_type": "code",
   "execution_count": 4,
   "id": "1cd766a9",
   "metadata": {},
   "outputs": [
    {
     "name": "stdout",
     "output_type": "stream",
     "text": [
      "Collecting openai-whisper\n",
      "  Using cached openai_whisper-20240930-py3-none-any.whl\n",
      "Requirement already satisfied: tqdm in e:\\anaconda\\lib\\site-packages (from openai-whisper) (4.64.1)\n",
      "Collecting tiktoken\n",
      "  Using cached tiktoken-0.8.0-cp39-cp39-win_amd64.whl (884 kB)\n",
      "Requirement already satisfied: numpy in e:\\anaconda\\lib\\site-packages (from openai-whisper) (1.21.6)\n",
      "Requirement already satisfied: numba in e:\\anaconda\\lib\\site-packages (from openai-whisper) (0.55.1)\n",
      "Collecting more-itertools\n",
      "  Using cached more_itertools-10.5.0-py3-none-any.whl (60 kB)\n",
      "Collecting torch\n",
      "  Using cached torch-2.5.0-cp39-cp39-win_amd64.whl (203.0 MB)\n",
      "Requirement already satisfied: setuptools in e:\\anaconda\\lib\\site-packages (from numba->openai-whisper) (63.4.1)\n",
      "Requirement already satisfied: llvmlite<0.39,>=0.38.0rc1 in e:\\anaconda\\lib\\site-packages (from numba->openai-whisper) (0.38.0)\n",
      "Requirement already satisfied: requests>=2.26.0 in e:\\anaconda\\lib\\site-packages (from tiktoken->openai-whisper) (2.28.1)\n",
      "Requirement already satisfied: regex>=2022.1.18 in e:\\anaconda\\lib\\site-packages (from tiktoken->openai-whisper) (2022.7.9)\n",
      "Requirement already satisfied: filelock in e:\\anaconda\\lib\\site-packages (from torch->openai-whisper) (3.6.0)\n",
      "Requirement already satisfied: networkx in e:\\anaconda\\lib\\site-packages (from torch->openai-whisper) (2.8.4)\n",
      "Requirement already satisfied: sympy==1.13.1 in e:\\anaconda\\lib\\site-packages (from torch->openai-whisper) (1.13.1)\n",
      "Requirement already satisfied: fsspec in e:\\anaconda\\lib\\site-packages (from torch->openai-whisper) (2022.7.1)\n",
      "Requirement already satisfied: typing-extensions>=4.8.0 in e:\\anaconda\\lib\\site-packages (from torch->openai-whisper) (4.12.2)\n",
      "Requirement already satisfied: jinja2 in e:\\anaconda\\lib\\site-packages (from torch->openai-whisper) (3.1.3)\n",
      "Requirement already satisfied: mpmath<1.4,>=1.1.0 in e:\\anaconda\\lib\\site-packages (from sympy==1.13.1->torch->openai-whisper) (1.2.1)\n",
      "Requirement already satisfied: colorama in e:\\anaconda\\lib\\site-packages (from tqdm->openai-whisper) (0.4.5)\n",
      "Requirement already satisfied: charset-normalizer<3,>=2 in e:\\anaconda\\lib\\site-packages (from requests>=2.26.0->tiktoken->openai-whisper) (2.0.4)\n",
      "Requirement already satisfied: urllib3<1.27,>=1.21.1 in e:\\anaconda\\lib\\site-packages (from requests>=2.26.0->tiktoken->openai-whisper) (1.26.11)\n",
      "Requirement already satisfied: certifi>=2017.4.17 in e:\\anaconda\\lib\\site-packages (from requests>=2.26.0->tiktoken->openai-whisper) (2022.9.14)\n",
      "Requirement already satisfied: idna<4,>=2.5 in e:\\anaconda\\lib\\site-packages (from requests>=2.26.0->tiktoken->openai-whisper) (3.3)\n",
      "Requirement already satisfied: MarkupSafe>=2.0 in e:\\anaconda\\lib\\site-packages (from jinja2->torch->openai-whisper) (2.0.1)\n",
      "Installing collected packages: more-itertools, torch, tiktoken, openai-whisper\n",
      "Successfully installed more-itertools-10.5.0 openai-whisper-20240930 tiktoken-0.8.0 torch-2.5.0\n",
      "Note: you may need to restart the kernel to use updated packages.\n"
     ]
    },
    {
     "name": "stderr",
     "output_type": "stream",
     "text": [
      "  WARNING: The scripts convert-caffe2-to-onnx.exe, convert-onnx-to-caffe2.exe, torchfrtrace.exe and torchrun.exe are installed in 'C:\\Users\\84280\\AppData\\Roaming\\Python\\Python39\\Scripts' which is not on PATH.\n",
      "  Consider adding this directory to PATH or, if you prefer to suppress this warning, use --no-warn-script-location.\n",
      "  WARNING: The script whisper.exe is installed in 'C:\\Users\\84280\\AppData\\Roaming\\Python\\Python39\\Scripts' which is not on PATH.\n",
      "  Consider adding this directory to PATH or, if you prefer to suppress this warning, use --no-warn-script-location.\n"
     ]
    }
   ],
   "source": [
    "pip install openai-whisper --user"
   ]
  },
  {
   "cell_type": "code",
   "execution_count": 5,
   "id": "6a956570",
   "metadata": {
    "scrolled": true
   },
   "outputs": [
    {
     "name": "stdout",
     "output_type": "stream",
     "text": [
      "Collecting docx\n",
      "  Downloading docx-0.2.4.tar.gz (54 kB)\n",
      "     ---------------------------------------- 54.9/54.9 kB 3.0 MB/s eta 0:00:00\n",
      "  Preparing metadata (setup.py): started\n",
      "  Preparing metadata (setup.py): finished with status 'done'\n",
      "Requirement already satisfied: lxml in e:\\anaconda\\lib\\site-packages (from docx) (4.9.1)\n",
      "Requirement already satisfied: Pillow>=2.0 in e:\\anaconda\\lib\\site-packages (from docx) (9.2.0)\n",
      "Building wheels for collected packages: docx\n",
      "  Building wheel for docx (setup.py): started\n",
      "  Building wheel for docx (setup.py): finished with status 'done'\n",
      "  Created wheel for docx: filename=docx-0.2.4-py3-none-any.whl size=53897 sha256=0bdd6785ececc0c68e46c0b63b3bec106b4adde3ef769384b265e184df8772c7\n",
      "  Stored in directory: c:\\users\\84280\\appdata\\local\\pip\\cache\\wheels\\0f\\8e\\9d\\7003eed35a84cf960876aae6bdf60d02041ddfcca66eceee94\n",
      "Successfully built docx\n",
      "Installing collected packages: docx\n",
      "Successfully installed docx-0.2.4\n",
      "Note: you may need to restart the kernel to use updated packages.\n"
     ]
    }
   ],
   "source": [
    "pip install docx"
   ]
  },
  {
   "cell_type": "code",
   "execution_count": 2,
   "id": "e07768bb",
   "metadata": {},
   "outputs": [
    {
     "ename": "ModuleNotFoundError",
     "evalue": "No module named 'exceptions'",
     "output_type": "error",
     "traceback": [
      "\u001b[1;31m---------------------------------------------------------------------------\u001b[0m",
      "\u001b[1;31mModuleNotFoundError\u001b[0m                       Traceback (most recent call last)",
      "\u001b[1;32m~\\AppData\\Local\\Temp\\ipykernel_9184\\2095386804.py\u001b[0m in \u001b[0;36m<module>\u001b[1;34m\u001b[0m\n\u001b[1;32m----> 1\u001b[1;33m \u001b[1;32mfrom\u001b[0m \u001b[0mdocx\u001b[0m \u001b[1;32mimport\u001b[0m \u001b[0mDocument\u001b[0m\u001b[1;33m\u001b[0m\u001b[1;33m\u001b[0m\u001b[0m\n\u001b[0m",
      "\u001b[1;32mE:\\anaconda\\lib\\site-packages\\docx.py\u001b[0m in \u001b[0;36m<module>\u001b[1;34m\u001b[0m\n\u001b[0;32m     28\u001b[0m     \u001b[0mTAGS\u001b[0m \u001b[1;33m=\u001b[0m \u001b[1;33m{\u001b[0m\u001b[1;33m}\u001b[0m\u001b[1;33m\u001b[0m\u001b[1;33m\u001b[0m\u001b[0m\n\u001b[0;32m     29\u001b[0m \u001b[1;33m\u001b[0m\u001b[0m\n\u001b[1;32m---> 30\u001b[1;33m \u001b[1;32mfrom\u001b[0m \u001b[0mexceptions\u001b[0m \u001b[1;32mimport\u001b[0m \u001b[0mPendingDeprecationWarning\u001b[0m\u001b[1;33m\u001b[0m\u001b[1;33m\u001b[0m\u001b[0m\n\u001b[0m\u001b[0;32m     31\u001b[0m \u001b[1;32mfrom\u001b[0m \u001b[0mwarnings\u001b[0m \u001b[1;32mimport\u001b[0m \u001b[0mwarn\u001b[0m\u001b[1;33m\u001b[0m\u001b[1;33m\u001b[0m\u001b[0m\n\u001b[0;32m     32\u001b[0m \u001b[1;33m\u001b[0m\u001b[0m\n",
      "\u001b[1;31mModuleNotFoundError\u001b[0m: No module named 'exceptions'"
     ]
    }
   ],
   "source": []
  },
  {
   "cell_type": "code",
   "execution_count": 2,
   "id": "b3fcbe8f",
   "metadata": {},
   "outputs": [],
   "source": [
    "import whisper "
   ]
  },
  {
   "cell_type": "code",
   "execution_count": 4,
   "id": "365d7962",
   "metadata": {},
   "outputs": [
    {
     "ename": "ModuleNotFoundError",
     "evalue": "No module named 'docx'",
     "output_type": "error",
     "traceback": [
      "\u001b[1;31m---------------------------------------------------------------------------\u001b[0m",
      "\u001b[1;31mModuleNotFoundError\u001b[0m                       Traceback (most recent call last)",
      "\u001b[1;32m~\\AppData\\Local\\Temp\\ipykernel_14148\\2095386804.py\u001b[0m in \u001b[0;36m<module>\u001b[1;34m\u001b[0m\n\u001b[1;32m----> 1\u001b[1;33m \u001b[1;32mfrom\u001b[0m \u001b[0mdocx\u001b[0m \u001b[1;32mimport\u001b[0m \u001b[0mDocument\u001b[0m\u001b[1;33m\u001b[0m\u001b[1;33m\u001b[0m\u001b[0m\n\u001b[0m",
      "\u001b[1;31mModuleNotFoundError\u001b[0m: No module named 'docx'"
     ]
    }
   ],
   "source": []
  },
  {
   "cell_type": "code",
   "execution_count": 3,
   "id": "09187d70",
   "metadata": {},
   "outputs": [
    {
     "name": "stderr",
     "output_type": "stream",
     "text": [
      "C:\\Users\\84280\\AppData\\Roaming\\Python\\Python39\\site-packages\\whisper\\__init__.py:150: FutureWarning: You are using `torch.load` with `weights_only=False` (the current default value), which uses the default pickle module implicitly. It is possible to construct malicious pickle data which will execute arbitrary code during unpickling (See https://github.com/pytorch/pytorch/blob/main/SECURITY.md#untrusted-models for more details). In a future release, the default value for `weights_only` will be flipped to `True`. This limits the functions that could be executed during unpickling. Arbitrary objects will no longer be allowed to be loaded via this mode unless they are explicitly allowlisted by the user via `torch.serialization.add_safe_globals`. We recommend you start setting `weights_only=True` for any use case where you don't have full control of the loaded file. Please open an issue on GitHub for any issues related to this experimental feature.\n",
      "  checkpoint = torch.load(fp, map_location=device)\n"
     ]
    }
   ],
   "source": [
    "model = whisper.load_model(\"small\")\n",
    "result=model.transcribe(r\"C:\\Users\\84280\\Downloads\\3.mp3\",fp16=False,language=\"Japanese\")\n"
   ]
  },
  {
   "cell_type": "code",
   "execution_count": 4,
   "id": "f07e8a8c",
   "metadata": {},
   "outputs": [
    {
     "name": "stdout",
     "output_type": "stream",
     "text": [
      "そういう意図を止めることなく自動を保住することができてイギリスのおりものの先進の社長がとにかくすごいって思った魔法の機会だってそういう例だってあと全然近代とかじゃないけど中国の例では中国でSNSが世界的なそういう状況でSNSが決済とインスタとSNSでラインみたいな機能が一つになっているらしくてそういう例が中国であるらしいです以上ですなるほどねもう一回お話ししたのにちょっとその後のところがまた大体自来事務では出てくるので前半の部分とかは重要なところって言うと重要なところかもしれないはい次第に渋谷市が大地区域銀行ってやな作ったことで楽しみに中央銀行が生まれたりみたいな感じで日本のISUとか昨年それに作り出したってのが一つ大体韓国の場合は近代化するのが1950年ぐらいからとかで日本の近代に当たるときには中央銀行が生きなかったらしいんですけどインターネットとかは日本へ進んでて早めに会い合ってもした話なるほどお手納のところだけど明治時代有名とか鉄道とかいっぱいやったりイノベーションを起きたと思うんですけど大体のものが後になるといろんなものが発明とか成長に繋がったりしてどこからどこまでがイノベーションっていうのをさすのか分かんなくなったりしないとそれは私にあると思うんですけどねありがとうございますはい次のところアンモナリーのイノベーションっていう人があなたの思いつかなってさっき川崎さんが来てくれた人も一緒なんですけど鉄道とか郵便とかが特殊に今日与えたと思うんですけどどこにいろいろ銀座関係があってどこまですごい弾くみたいな分かんないなっていう感じですそういった意味ですはいありがとうございました最後僕たちも中央の二グループと同じ感じで鉄道郵便電話とかでも途中ちょっと何かの論文で見たとかなく考察みたいなところになってくるんですけど別に結として鉄道が明治7年に公平大阪関とか電話の通ったのも明治7年に長崎北海道館みたいなところがつながっているのでその時期的に鉄道を利用して電話が何ですか大きさに何らか良い駅を与えたのではみたいな話とかあと科学的管理法とかの導入も1900年代初頭に本に持ち込まれたみたいなのが置いたのでそういうところ調べたところによると豊田の話とちょっと気に入ったのが豊田の生産方式の元をたどると核鉄管理法みたいなところを利用したのではみたいな話とかもあったりしている後の先後とかにも話とかにつながっている話に載っちゃうかもしれないというのを大規模化していただきの防御化みたいなところの基礎になったのではという意見があったらいいましたはい、申し上げですねはい、ありがとうございます今上がってきた話および静岡300年度の方々が私として決めて夏までも良いですしまたそこはよくわからないとそれはこうではなくてこうではない額の意見でもいいですか、いいかなとしょうかはい4点のところの質問いいですか丸コーナーにも明日の3番2点2点で朝の寒さが2点分に災害したので民主党災害の人がなかったとしたら発明はレローカルミュージックの締色で災害が強化することだったらしいのではないけど丸コーナーさんたちがいる国はどんな知識がなくて知っていたからこので無線電線の開発の成功したのかもしあれば気になるだけです丸コーナーさんちょっと丸コーナーですよね多分丸コーナーはいどうしてもいいですか多分長野市にはイタリアなんですけど何て言うんですかね丸コーナーさんの物があるらしいんですけどこれは意地にあるらしいんですけど多分この当時のヨーロッパってそもそもいろんな国がイタリアとかは超越されていない時代とかもあったのでそうですこの当時はイタリア一国で見たことがいろいろとヨーロッパにあった知事って言ってるかねちょっとこれによくわからないんですけどまず無線電線って言ったことがアメリカ人がモールズって言ったらいいですモールズ線のことがみんなだと思います多分ヨーロッパのコーナーによって無線電線に変わってそうですもう一回ちょっと何何言っと無線電線ヨーロッパの方が知事に訪れられてそうだから丸コーナー無線電線に開発しそうなんですけどヨーロッパの方が知事に訪れられてそうだから丸コーナーに開発しそうなんですけどまず開発と発見の違いなんですけどちょうど知事これに関しては自分があんまり発明作るのもありかなと思って開発にされているのでそこはあまりさく考えなくていいですヨーロッパに丸コーナーも必要化させていたんですか無線電線自体は丸コーナーに発見されていたんですけどその後長距離の電話多分無線電線ってまた単距離だったんですそれを距離を伸ばすこの救済から学園としてまでなのを救済から北九州とか大阪とか東京とかまでするので成功さればこの電源救助が作ったのにキーワイで無線電はキーワイじゃなくてここは研究所が作ったのはフリオのバスミルス開発を発明させていた自分も自分もこれで大丈夫ですか今とか私もよく分からなかったんだけどそこまでのところは電子の話が来ているのが急に電話になるよね多分進化したんじゃないですか元々多分電子に出られてないですか信号というかピピッと言って電子に出られたら電話の方がいいよねモールズ信号を解読する時間もしていたからそれが声とかまで強くなったんじゃないですかそこまでの技術的には比較があるんじゃないここら辺があまりふっかく触れが出てなかったなので調べるのかいいいんだけど13年に急に電子に戻っている13年の無線電子の方式の発明これは何を取ることができますかまるならばあれ?なんかここちょっと寝るんだよねここら辺なんかよく違うものであったのではないかという気がするんだよな無線電話だと思いますか電話かこれももちろん電子の方は先に発達してきて電話に変わっていくということもあるしあと電話もあるだよねよく言われる私も昭和校の子に電気みたいな本で読んだけどグラファのベルト誰かで今日出しているのってすごくタイミングのさえぐらいだったんだよねどっちか名前が残ってるからベルがちょっとだけ早かったという話で結局みんな同時に探すときにできそうになってきているわけでと思うのたが日本はどういう感じだったのかねこれやっぱり外国から買ったもの分解してまた勝手に作り直すみたいなことをやってたのかな基本的にはねそのパターンいわゆるリバースエンジニアに買ってきたものを動かしてそれを真似して作っているお願いしますはい、これいかがでしょうかかなくて機械にこうすくみみたいなものだと思うんですけどイノベーションって新しいもので経済価値を売ればいいならものとか技術じゃなくてシステムそのものもイノベーションに含まれますからただがんばっていかがにもイノベーションだよね株式会社の株式会社のシステムの概念に株式系のもイノベーションのちょっと言えるんですか言えるだろうなちょっとだから難しいところがあるのはものっていうのは例えばヨーロッパのことだとだんだん出来上がってきていて今から見るとこういう点で株式会社じゃないというポイントがあるそういうところがだんだんいろんな会社が失敗したりするような中でこういうのじゃダメだわってことで改善される最終的に株式会社制度ができてくるわけなんでイノベーションという意味にはわれと看板な進化を経てる可能性は高いよねじわじわじわ変わってきたそういうところについて言うとそれは明らかにイノベーションであるということは言えると思うんだけどそこに至るまでの歩みはこんなにノロノロノロ変わってきたものがイノベーションと言えるあらたちのイノベーションというところ劇的な変化っていうものを想定しちゃうじゃないそこを考えるとどうかなっていう感じはしないではないだから日本みたいな高発国だともう出来上がっている株式会社制度ってもいきなりどうもっと入ってくるわけだよねこれはだから日本の社会にとってイノベーション的にあかわりを果たすということが言えるだろうねだから株式会社みたいに大きなお金を一気に導入するということがそれまでの日本では全くできなかったわけだ国がやることができても民間人だけで大きなお金を集めて会社を作るそれこそ先そこらへんで出た渋沢一とかね渋沢一なんとは結局会社というものが応援にはあるということを知って同じような感じで日本でもやってみたいというところの中でこの月の上では国の制度だけど日本鉄道であるとか大阪宏席なんかは民間の会社だよねそれがだから結局株式会社制度を真似してやったんだけどやっぱり大阪宏席が色々なアイノベーションというものを持っているんだろうけどあれが株式会社としてできたということの一つのイノベーションだったね当時の日本社会のみたね他のイノベーションを積んだって言いますよねそうなのにそうなると思う日本における株式会社におかわると先進のヨーロッパ諸国とであんまりちょっと違うかもねという気がするどういうふうに実際になってるのかよくわからない最終的にはこんな感じが色々いのではっていう感じにでもちょっと考えてもらっても株式会社制度って言えば大きな特徴って皆さんなんだと思いますなんか昔にはあれあったんだろう何ですかジェントリーの階級だってアクセリティの階級が集まってしたのがいるような形が株式会社に成長したとちょっと知っているんですけれども最終的にはそうなっていくわけなんだけど今私が株式会社ってもちろんいくつかの特徴があるってことになっていくんだけどその他紹介者と比べたときに私が多く重要だったのにされてきているのは全株の意思が流言的にだったと思うんだけど元々だからジェントリーって言ってそのまあ階級としてのジェントリーがそういう会社らしくものを作ったときに一番最初は多分株式が全員入留原籍人であるということはなかったと思うんだよねそうですねやっぱりだってそこって一番引っかかるところじゃないつまりその会社に対してお金を貸した人がいたとしていっぱい貸したのにも潰れたときにもう潰れたしうちが株式会社だから条件借りたけどこの会社は100万円しかしお金ないから100万円しか返せませんそういう極端な例があったときにそれでいいんだよね株式会社っての貸した側はなんでそんなことになるんだっていうことに多分判が立つと思うんだよね今はみんなそういう知識がある中でやってるからそんな会社に条件を貸さなきゃいいんだけどさどういうふうにしたらそんな確かに株式会社だから結構難しい感じがしませんただそうした方が結果的にみんなが幸せなんだということが方弁の皆さんが考えたことなわけですねここはでも本当に難しくって日本もだから株式会社制度を導入していてうちは株式会社ですよって言ってるんだけど結構これ面白いのはもうそういう制度ができてから何十年か経ってから破綻した会社があってその時にでも破綻しましただからうちは有限責任だからこれしか責任は取りませんというやり方はしないんだよね結果自分の家の資材とかを売り払ってその財務に対して何とか返そうとするということを多くの日本の会社はするんですよ有限責任じゃない今ですね責任の取り方がその辺のところっていうのは法制度と実際とはちょっとずれているねというところは結構ある大事銀行制度とかねさけやらかな変ででいくともそんなもんもとめてそういう有限のものじゃなくてももちろんそれがイロベーションイロベーションだよね可愛いからですかつなぎ目なんですけどイギリスのジェントリー階級を日本に取れていたら大名なんですか日本の前に人種と言われるのみんなの言うふうなとちもちねそれと貴族との間みたいな感じ大名は大名でもいいんだけども重要なのはジェントリー階級は人種じゃん土地を持っている人たちなんだけど日本では大名は元々土地を持っていたはずなんだけども明治心の後に自分の土地は取り上げられちゃったんだよね取り上げられて全部国に返せっていう風に言われちゃって結局彼らについては財産は持っていい財産は国際としていっぱいお金がくるからお金持ってるんだけど財産をさないと土地はないだからジェントリー階級は違うのはその家族っていう名前で大名もや貴族っていうのは明治心も1945年までは行き続けるんだけど大きな違いは彼らにはそういう自分の農園みたいなものがないんだよねそこはすごく大きな違い3大にも土地とか配ったりしたんだけども配ってないだから日本の3大階級は基本的には持ってる人もいるよ農場は後で買ったんですそれは自分のお金の資産の医療を一貫として土地を買うということをしたりして特に農場を持っているなんていう人もいるけど持たない人もいるし大名でそんな感じだからそれより下のクラスの物資層というのは全く何も持ってないですお金はちょっと持ってるだろうしあと教育程度はちょっと高いということはあるけどもう財産というところで言うとだからそこは大きな違いだね両方も元特権階級というところで言うと元じゃないな先前だったら特権階級なんだけど生活スタイルが大きく違うんでそこのところはでも基本的にはイリスをさせたらだからお金持ちが巻き大なお金を持った時にどういう暮らしを望むかというところに日本と例えばイリスのサラーになっているんじゃないかということはよく言われることですね日本の金持ちってのは基本的に東京に住んでてロコンキルスとかアイドコンキスとかするわけで特権とは思わなかったんでイリスの金持ちってのはそういうところに事務所はあるかもしれないけど元々は自分の元々処理を立ったら田舎のほうの農場みたいなところにでかいっていたことがあるというようなのは一般的だと思う日本でそういうことをする金持ちはいないのは東京に住まされるというところが大きいですねもちろんもちろん一つそれについて言えば農民の中の大きな人は人主になるわけなんだけども人主のお家ってだいたいそうだね人主のお家はその人主自分の家が一番大きなお家だと戦前だったら1000ヘクタールくらい1000ヘクタールが100メートル100メートルのものが1000ヘクタールだったからもうすごくでかいのっちを持っている人主にいたんですよこれをだからいわゆる特権階級じゃなくて元々農民だった人なんだけどもそういう人たちがいるこれを誰が創促するかというと基本が長男だよね長男が創促して自然は何がしか持たされる文家と言って別に家を作らされるその時に基本的に途中を開けるということはしないですよね日本の場合そうだね似てるところとそういうところがあるなそういうだからもうみんな大きな人種さんというのもご存知かと思うけど1946年に農地改革をするのでその時に全部互いしている人に分けさせられちゃったからその結果日本には人種がいなくなるんですそういうその議談会まず物資が持っていたものを取り上げたその後大きな人種が持っていたものを取り上げたということで今日本にいるのは小さい農地を持っている人たちがいるだけですその辺のところが今日通点とそういう点でそれぞれあるわな外側でさあ今のところと知っていたことがあるようです全体としてもうそろそろ終わると思うんだけど私の頃プライントとして全体として何か制度ができたりまたインフレンのできたりというところがそれによってインフレンの動きを発するというようななかと指摘されているところが多くてそれはそれでもちろん重要な正しいものとしてもあるんだけど私が見ていてここはどうかなと思っていたのはもしかしたら本国者もそこの範囲として考えていなかったらかもしれないけど50人ページのインフレンションをするというところがあって知識の問題というのがあるんだけどその下のところだよねインフレンスが大事だというような話をその後のところでしているところがあってこっちの方がイノベーションがイノベーションを誘発するという流れの一つなんだよねだから生理産業でいえば折り物の量が先に進化するわけだよね折り物物の機械の方が簡単だなで、折り物の機械ができるとガンガン折り物を機械で作れるようになるそういうのがどうなのかというともっと糸が必要だという話になるんだけど糸はちゃんと機械が作れませんという話になるとそこが元ネックになるんだよね元ネックという捉え方は結構大事で一個が進化しちゃうとどこかで一個足りないものが出てきちゃうというところがあって新たなイノベーション結局みんなはじゃあ帽石機械を糸を作る機械を作るともうかるだろうと絶対にということでみんなで頑張った結果でも結構時間がかかるんだけどね帽石機械ができましたという流れになるこういうのを明治期くらいに行くのでは多かったのはそこも私も考えてみたけどどうなったのかなと思っていながら考えたのけどちょっとごめんなさい私もいろいろ調べたんですけど現代だから結構見つかるんですよ現代だったら立てるのなんですかなんていうんですか金光ですよねいやあれちょっと待ってください全部合わせなくていい正しいのかなってちょっと今思ってたんですけどスマートフォンとかスマートフォンによって金光が作り出されるじゃないですか例えば材料反動体とか色んなものをスマートフォンを作るんですけど色んな物質が必要じゃないですかそれの開発とかで例えば反動体の私もちょっと言うか分からないですけど洗ったりするじゃないですか色んな洗浄そのギリスが出たりみたいなどっかで聞いてもらうんですけどスマートフォンはあるような気がするけどはっきりそれがどういうことかという説明ができない私は生きれないんですよよく分からないんですけどまさもそういう風なの思ってたんですけど日本ではあんまりそれないなみたいなそうだ糸とかも考えてたんですけどいやその参考分件がちょっとあんまりいいものがなかった糸の話とかで言うとなんていうのかなイノベーションというかだからやっぱり誰が聞いても素晴らしいそれは確かに新しい考え方や新しい製品だから素晴らしいというものがイノベーションの上に見えたりするんだけど必ずしもそうとは言えなくて例えばだけど正式機械正式って言った場合面の糸じゃなくてこれをキートを作る思うですねキートの名前がこれもだから一番最初日本の場合は輸入をするんだけどもイタリアとかフランスから輸入をするわけですそれについてちょっと増だしたらいいのか皆さん気になったら後で検索をかけてもらえばいいと思うんだけど金属でできているわけですよ銅とかでできていてで生地ってこの機能を作る時って基本的にはガムをさなぎを真央をお湯で茹でてそれでちょっと出てきたところを引っ張って何本か6本くらい合わせたところを上のところに引っかけるそれを蒸気機関によってそれから人ができるとより合わせて引っ張って人ができるという感じになっているのでイタリアとかフランスの最先進行の機械はこの構の部分もと市中もとあと蒸気機関の部分についても鉄とか銅でできているわけですよがっしりしているということになるんだけど日本の正式機械ってこれ写真とか見てもらったら面白いんだけど全然違うんですよ重要な問題としてインバランスの部分で言うと日本人には銅とか鉄とかをフランスやイタリア人みたいに自由に作る技術がないだから全然銅も鉄の手に入らないし輸入して買おうと思うとめちゃめちゃ金かかるそんな金かかったんじゃ全然引き合わないということになっちゃうから結局どういうことをしたのかというと木でできるところは全部木にしたんですよ台座全部木にしてこのオケの部分ですね火で温めるんだけどその道で作ってた部分を日本は当時期にしました東京は日本人いっぱい作れるさらに重要なのは長期機械についてはもう三曜日までで作るんだけど基本的にはその芋の屋さんという元々日本人で金属を金かかりやってた人たちが三曜日までで作るんだけどそのボイラー部分ってすごくやっぱりガシリしてないとガシリしてないとこの木を発生させてそれを動力にするわけだからあまりに弱なものを作ると爆発するんだよねするんだけど日本人はやっぱり金属をたくさん使うというお金もないし技術もないからすっごい薄いボイラーを作ってそれで状況を出すということをしたわけですよその結果として日本の静寂機械というのはイタリアとかプランスの何分の一だったか5分の一だったか6分の一だったかもうすぐ安い値になってきたこれをイノベーションと言えるかどうかということなんだよね多分イノベーションなんですよこれはこれはだからかつては昔の歴史学の世界では今いったような姿日本のそういう静寂業静寂工事の姿というのは非常にやっぱり更新国的である技術水準がすごく低くてで実際爆発した人が怪我したという事例がいっぱいあるんですよもうとんでもないしのものなわけでそんなものしかできないくらい日本の技術水準が低いねというところで終わってたんだけどもそれについて考えたら1988年代くらいから変わってきていて適切な技術という言葉を仲岡鉄道という人が考えたんだけどもその当時の日本の水準その場合、地域水準も低いし技術水準も低い他の産業の水準も全部低いからそういう中で必要な技術というのは別に特殊な技術じゃないだから今言ったように木工だったらできるんだったら木工技術がはめたらいいしここ結構大事な事なんだけど人が怪我したり死んじゃったりしてもそんなにお金を払わせてもいいとであれば安全なのかにもケアしなくてもその時の状況、社会の状況にあったような技術を投入するということが適正技術である日本の産業革命というのは適正技術が投入されたことによってまあなんていうのかなその当時の工法局としては異例の成長を遂げたという説明もするわけですだからさっきほれさんが言ってくれた折一記なんかもそうなんだよねだから海外だったとその早く動きやすいのがあるんだけど日本の状況だと足組みの人力初期でまずはいいというような考え方ですねそれも適正技術的な発想ということになってくるわけですそういうものを使いながらだんだんと成長に合わせて両面ものはできるようになってくるという成長の仕方をしたということですよねこれなんかはその当時の自分たちの状況にあったイノベーションの形の一つと言えるかもしれないそうですね終われということだねいやいやいやいやありがとうちょうどいいんじゃないかね面白い皆さんよろしいですかねはいじゃあ今日はここら辺で終わりましょうで来週はお休みですねすげえ中途半端なことをしてたんですけどどうだった学生とか学生やった仕事できる大きなことをして男につなげると面白いこれめっちゃなんか見たいからどうですかねやっぱりするとそれさられたんですかこれさんと配慮できるんですか素晴らしいなどういう仕事か県庁の方インターネットそうです何をしているの今すぐやってるといらないとお客さんもお客さんがお客さんがこれをこの中に今すぐ行く行く今すぐ行く行く落ち着いた行く今日早く今日早く今日早く今すぐ行くお客さんが暴しちょっと待ってこれあのあのいいじゃないなんかちょっとちょっとちょっとちょっとちょっとちょっとちょっとちょっとちょっとちょっと goodはーいはーいはーいはーいはーいはーいはーいはーいはーいはーいはーいはーいはーいはーいはーい行くかいったいはい強がないあ、違うはーいはーいはーいはーいひいはーいいったいはーいはばいproof私はこの場所にいることを知っています。私はこの場所にいることを知っています。私はこの場所にいることを知っています。私はこの場所にいることを知っています。私はこの場所にいることを知っています。私はこの場所にいることを知っています。私はこの場所にいることを知っています。後は中共に行っているようなう、如果必要なことが起こりました。この隙間は3階ですこの隙間はこの隙間を見ると良いですこの隙間はとても良いですここにいるのがいいここにいるのがいいここにいるのがいい上にいるのがいいここにいるのがいいここにいるのがいいここにいるのがいいここにいるのがいいここにいるのがいい\n"
     ]
    }
   ],
   "source": [
    "print(result['text'])"
   ]
  },
  {
   "cell_type": "code",
   "execution_count": 5,
   "id": "8658c1de",
   "metadata": {},
   "outputs": [],
   "source": [
    "all_paragraph=[]\n",
    "paragraph=[]\n",
    "for i in result['segments']:\n",
    "    sentence=i['text']\n",
    "    paragraph.append(sentence)\n",
    "    if len(paragraph) >=3:\n",
    "        all_paragraph.append(\"\\n\".join(paragraph))\n",
    "        paragraph = []\n",
    "\n",
    "with open(r\"C:\\Users\\84280\\Downloads\\transcription_output3.txt\", \"w\", encoding=\"utf-8\") as f:\n",
    "    f.write(\"\\n\\n\".join(all_paragraph))  # 每段之间空一行\n",
    "    "
   ]
  },
  {
   "cell_type": "code",
   "execution_count": null,
   "id": "bea0e56f",
   "metadata": {},
   "outputs": [],
   "source": []
  }
 ],
 "metadata": {
  "kernelspec": {
   "display_name": "Python 3 (ipykernel)",
   "language": "python",
   "name": "python3"
  },
  "language_info": {
   "codemirror_mode": {
    "name": "ipython",
    "version": 3
   },
   "file_extension": ".py",
   "mimetype": "text/x-python",
   "name": "python",
   "nbconvert_exporter": "python",
   "pygments_lexer": "ipython3",
   "version": "3.9.13"
  }
 },
 "nbformat": 4,
 "nbformat_minor": 5
}
