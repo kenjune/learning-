{
 "cells": [
  {
   "cell_type": "code",
   "execution_count": 56,
   "metadata": {},
   "outputs": [
    {
     "name": "stdout",
     "output_type": "stream",
     "text": [
      "200\n"
     ]
    }
   ],
   "source": [
    "# requests 库的一些使用例子\n",
    "import requests\n",
    "from bs4 import BeautifulSoup\n",
    "import pandas as pd\n",
    "ur1='https://www.thebeatles.com/albums'\n",
    "\n",
    "response= requests.get(ur1)\n",
    "print(response.status_code)\n",
    "https://app.rakuten.co.jp/services/api/Recipe/CategoryList/20170426?format=json&categoryType=small&applicationId=e06e2a5afcf14b52139c1fb6c58e9dbc"
   ]
  },
  {
   "cell_type": "code",
   "execution_count": 6,
   "metadata": {},
   "outputs": [
    {
     "name": "stdout",
     "output_type": "stream",
     "text": [
      "\n",
      "<!DOCTYPE html>\n",
      "<html lang=\"en\" dir=\"ltr\" prefix=\"content: http://purl.org/rss/1.0/modules/content/\n"
     ]
    }
   ],
   "source": [
    "print(response.text[:100])"
   ]
  },
  {
   "cell_type": "code",
   "execution_count": 23,
   "metadata": {},
   "outputs": [],
   "source": [
    "soup=BeautifulSoup(response.content,'html.parser')#调用python自带的标准解析器"
   ]
  },
  {
   "cell_type": "code",
   "execution_count": 58,
   "metadata": {},
   "outputs": [
    {
     "name": "stdout",
     "output_type": "stream",
     "text": [
      "<class 'str'>\n",
      "<class 'str'>\n",
      "专辑名称 Please Please Me 发行年份 22 March 1963\n",
      "<class 'str'>\n",
      "<class 'str'>\n",
      "专辑名称 With The Beatles 发行年份 22 November 1963\n",
      "<class 'str'>\n",
      "<class 'str'>\n",
      "专辑名称 A Hard Day's Night 发行年份 10 July 1964\n",
      "<class 'str'>\n",
      "<class 'str'>\n",
      "专辑名称 Beatles For Sale 发行年份 4 December 1964\n",
      "<class 'str'>\n",
      "<class 'str'>\n",
      "专辑名称 Help! 发行年份 6 August 1965\n",
      "<class 'str'>\n",
      "<class 'str'>\n",
      "专辑名称 Rubber Soul 发行年份 3 December 1965\n",
      "<class 'str'>\n",
      "<class 'str'>\n",
      "专辑名称 Revolver 发行年份 5 August 1966\n",
      "<class 'str'>\n",
      "<class 'str'>\n",
      "专辑名称 Sgt Pepper's Lonely Hearts Club Band 发行年份 1 June 1967\n",
      "<class 'str'>\n",
      "<class 'str'>\n",
      "专辑名称 Magical Mystery Tour 发行年份 27 November 1967\n",
      "<class 'str'>\n",
      "<class 'str'>\n",
      "专辑名称 The Beatles 发行年份 22 November 1968\n",
      "<class 'str'>\n",
      "<class 'str'>\n",
      "专辑名称 Yellow Submarine 发行年份 17 January 1969\n",
      "<class 'str'>\n",
      "<class 'str'>\n",
      "专辑名称 Abbey Road 发行年份 26 September 1969\n",
      "<class 'str'>\n",
      "<class 'str'>\n",
      "专辑名称 Let It Be 发行年份 8 May 1970\n",
      "<class 'str'>\n",
      "<class 'str'>\n",
      "专辑名称 The Beatles 1962-1966 发行年份 1 April 1973\n",
      "<class 'str'>\n",
      "<class 'str'>\n",
      "专辑名称 The Beatles 1967-1970 发行年份 2 April 1973\n",
      "<class 'str'>\n",
      "<class 'str'>\n",
      "专辑名称 Past Masters 发行年份 7 March 1988\n",
      "<class 'str'>\n",
      "<class 'str'>\n",
      "专辑名称 Live At The BBC 发行年份 30 November 1994\n",
      "<class 'str'>\n",
      "<class 'str'>\n",
      "专辑名称 The Beatles Anthology 1 发行年份 20 November 1995\n",
      "<class 'str'>\n",
      "<class 'str'>\n",
      "专辑名称 The Beatles Anthology 2 发行年份 18 March 1996\n",
      "<class 'str'>\n",
      "<class 'str'>\n",
      "专辑名称 The Beatles Anthology 3 发行年份 28 October 1996\n",
      "<class 'str'>\n",
      "<class 'str'>\n",
      "专辑名称 Yellow Submarine Songtrack 发行年份 13 September 1999\n",
      "<class 'str'>\n",
      "<class 'str'>\n",
      "专辑名称 1 发行年份 13 November 2000\n",
      "<class 'str'>\n",
      "<class 'str'>\n",
      "专辑名称 Let It Be...Naked 发行年份 17 November 2003\n",
      "<class 'str'>\n",
      "<class 'str'>\n",
      "专辑名称 Love 发行年份 20 November 2006\n",
      "<class 'str'>\n",
      "<class 'str'>\n",
      "专辑名称 On Air - Live At The BBC Volume 2 发行年份 11 November 2013\n",
      "<class 'str'>\n",
      "<class 'str'>\n",
      "专辑名称 Live At The Hollywood Bowl 发行年份 9 September 2016\n",
      "['Please Please Me', 'With The Beatles', \"A Hard Day's Night\", 'Beatles For Sale', 'Help!', 'Rubber Soul', 'Revolver', \"Sgt Pepper's Lonely Hearts Club Band\", 'Magical Mystery Tour', 'The Beatles', 'Yellow Submarine', 'Abbey Road', 'Let It Be', 'The Beatles 1962-1966', 'The Beatles 1967-1970', 'Past Masters', 'Live At The BBC', 'The Beatles Anthology 1', 'The Beatles Anthology 2', 'The Beatles Anthology 3', 'Yellow Submarine Songtrack', '1', 'Let It Be...Naked', 'Love', 'On Air - Live At The BBC Volume 2', 'Live At The Hollywood Bowl']\n",
      "['22 March 1963', '22 November 1963', '10 July 1964', '4 December 1964', '6 August 1965', '3 December 1965', '5 August 1966', '1 June 1967', '27 November 1967', '22 November 1968', '17 January 1969', '26 September 1969', '8 May 1970', '1 April 1973', '2 April 1973', '7 March 1988', '30 November 1994', '20 November 1995', '18 March 1996', '28 October 1996', '13 September 1999', '13 November 2000', '17 November 2003', '20 November 2006', '11 November 2013', '9 September 2016']\n",
      "{'发行年份': ['22 March 1963', '22 November 1963', '10 July 1964', '4 December 1964', '6 August 1965', '3 December 1965', '5 August 1966', '1 June 1967', '27 November 1967', '22 November 1968', '17 January 1969', '26 September 1969', '8 May 1970', '1 April 1973', '2 April 1973', '7 March 1988', '30 November 1994', '20 November 1995', '18 March 1996', '28 October 1996', '13 September 1999', '13 November 2000', '17 November 2003', '20 November 2006', '11 November 2013', '9 September 2016'], '专辑名称': ['Please Please Me', 'With The Beatles', \"A Hard Day's Night\", 'Beatles For Sale', 'Help!', 'Rubber Soul', 'Revolver', \"Sgt Pepper's Lonely Hearts Club Band\", 'Magical Mystery Tour', 'The Beatles', 'Yellow Submarine', 'Abbey Road', 'Let It Be', 'The Beatles 1962-1966', 'The Beatles 1967-1970', 'Past Masters', 'Live At The BBC', 'The Beatles Anthology 1', 'The Beatles Anthology 2', 'The Beatles Anthology 3', 'Yellow Submarine Songtrack', '1', 'Let It Be...Naked', 'Love', 'On Air - Live At The BBC Volume 2', 'Live At The Hollywood Bowl']}\n",
      "                 发行年份                                  专辑名称\n",
      "0       22 March 1963                      Please Please Me\n",
      "1    22 November 1963                      With The Beatles\n",
      "2        10 July 1964                    A Hard Day's Night\n",
      "3     4 December 1964                      Beatles For Sale\n",
      "4       6 August 1965                                 Help!\n",
      "5     3 December 1965                           Rubber Soul\n",
      "6       5 August 1966                              Revolver\n",
      "7         1 June 1967  Sgt Pepper's Lonely Hearts Club Band\n",
      "8    27 November 1967                  Magical Mystery Tour\n",
      "9    22 November 1968                           The Beatles\n",
      "10    17 January 1969                      Yellow Submarine\n",
      "11  26 September 1969                            Abbey Road\n",
      "12         8 May 1970                             Let It Be\n",
      "13       1 April 1973                 The Beatles 1962-1966\n",
      "14       2 April 1973                 The Beatles 1967-1970\n",
      "15       7 March 1988                          Past Masters\n",
      "16   30 November 1994                       Live At The BBC\n",
      "17   20 November 1995               The Beatles Anthology 1\n",
      "18      18 March 1996               The Beatles Anthology 2\n",
      "19    28 October 1996               The Beatles Anthology 3\n",
      "20  13 September 1999            Yellow Submarine Songtrack\n",
      "21   13 November 2000                                     1\n",
      "22   17 November 2003                     Let It Be...Naked\n",
      "23   20 November 2006                                  Love\n",
      "24   11 November 2013     On Air - Live At The BBC Volume 2\n",
      "25   9 September 2016            Live At The Hollywood Bowl\n"
     ]
    }
   ],
   "source": [
    "a=[]\n",
    "b=[]\n",
    "for i in soup.find_all('div',{'class':'col-xs-12 col-sm-6 col-md-3 standard-views-grid-item'}):\n",
    "    album_title=i.find('div',{'class':'title'}).text.strip()\n",
    "    album_pretitle=i.find('div',{'class':'pre-title'}).text.strip()\n",
    "    type1=type(album_title)\n",
    "    type2=type(album_pretitle)\n",
    "    print(type1)\n",
    "    print(type2)\n",
    "    a.append(album_title)\n",
    "    b.append(album_pretitle)\n",
    "    print('专辑名称',album_title,'发行年份',album_pretitle)\n",
    "print(a)\n",
    "print(b)\n",
    "dic={'发行年份':b,'专辑名称':a}\n",
    "print(dic)\n",
    "data=pd.DataFrame(dic)\n",
    "print(data)"
   ]
  },
  {
   "cell_type": "code",
   "execution_count": null,
   "metadata": {},
   "outputs": [],
   "source": []
  },
  {
   "cell_type": "code",
   "execution_count": null,
   "metadata": {},
   "outputs": [],
   "source": []
  }
 ],
 "metadata": {
  "kernelspec": {
   "display_name": "Python 3 (ipykernel)",
   "language": "python",
   "name": "python3"
  },
  "language_info": {
   "codemirror_mode": {
    "name": "ipython",
    "version": 3
   },
   "file_extension": ".py",
   "mimetype": "text/x-python",
   "name": "python",
   "nbconvert_exporter": "python",
   "pygments_lexer": "ipython3",
   "version": "3.7.16"
  }
 },
 "nbformat": 4,
 "nbformat_minor": 2
}
